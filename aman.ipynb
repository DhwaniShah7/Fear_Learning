{
 "cells": [
  {
   "cell_type": "code",
   "execution_count": null,
   "metadata": {},
   "outputs": [],
   "source": [
    "import pandas as pd\n",
    "import os\n",
    "\n",
    "# Define the main folder containing subject folders\n",
    "main_folder = '/Users/dhwanishah/Desktop/MS/VR-Dhwani/subject-csvs'\n",
    "folder_names = ['sub-1', 'sub-2', 'sub-3', 'sub-4', 'sub-6', 'sub-7', 'sub-8', 'sub-9', 'sub-10', 'sub-11']\n",
    "SESSION_NAME='session-2'"
   ]
  },
  {
   "cell_type": "markdown",
   "metadata": {},
   "source": [
    "## Aman\n"
   ]
  }
 ],
 "metadata": {
  "kernelspec": {
   "display_name": "dhwani-work",
   "language": "python",
   "name": "python3"
  },
  "language_info": {
   "name": "python",
   "version": "3.10.0"
  }
 },
 "nbformat": 4,
 "nbformat_minor": 2
}

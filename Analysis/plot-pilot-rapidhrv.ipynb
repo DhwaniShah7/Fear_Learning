{
 "cells": [
  {
   "cell_type": "code",
   "execution_count": 6,
   "metadata": {},
   "outputs": [],
   "source": [
    "import warnings\n",
    "warnings.filterwarnings(\"ignore\")\n",
    "import os\n",
    "import pandas as pd\n",
    "import numpy as np\n",
    "import seaborn as sns\n",
    "import matplotlib.pyplot as plt\n",
    "import avro.schema\n",
    "from avro.datafile import DataFileReader\n",
    "from avro.io import DatumReader\n",
    "import pandas as pd\n",
    "from datetime import datetime\n",
    "import pytz\n"
   ]
  },
  {
   "cell_type": "code",
   "execution_count": 7,
   "metadata": {},
   "outputs": [
    {
     "ename": "ModuleNotFoundError",
     "evalue": "No module named 'neurokit2'",
     "output_type": "error",
     "traceback": [
      "\u001b[0;31m---------------------------------------------------------------------------\u001b[0m",
      "\u001b[0;31mModuleNotFoundError\u001b[0m                       Traceback (most recent call last)",
      "Cell \u001b[0;32mIn[7], line 2\u001b[0m\n\u001b[1;32m      1\u001b[0m \u001b[38;5;28;01mimport\u001b[39;00m \u001b[38;5;21;01mpandas\u001b[39;00m \u001b[38;5;28;01mas\u001b[39;00m \u001b[38;5;21;01mpd\u001b[39;00m\n\u001b[0;32m----> 2\u001b[0m \u001b[38;5;28;01mimport\u001b[39;00m \u001b[38;5;21;01mneurokit2\u001b[39;00m \u001b[38;5;28;01mas\u001b[39;00m \u001b[38;5;21;01mnk\u001b[39;00m\n\u001b[1;32m      3\u001b[0m \u001b[38;5;28;01mimport\u001b[39;00m \u001b[38;5;21;01mmatplotlib\u001b[39;00m\u001b[38;5;21;01m.\u001b[39;00m\u001b[38;5;21;01mpyplot\u001b[39;00m \u001b[38;5;28;01mas\u001b[39;00m \u001b[38;5;21;01mplt\u001b[39;00m\n\u001b[1;32m      5\u001b[0m \u001b[38;5;66;03m# Load your PPG data\u001b[39;00m\n\u001b[1;32m      6\u001b[0m \u001b[38;5;66;03m# Example structure:\u001b[39;00m\n\u001b[1;32m      7\u001b[0m \u001b[38;5;66;03m# | Timestamp       | PPG       |\u001b[39;00m\n\u001b[1;32m      8\u001b[0m \u001b[38;5;66;03m# |-----------------|-----------|\u001b[39;00m\n\u001b[1;32m      9\u001b[0m \u001b[38;5;66;03m# | 2024-10-01 12:00| 0.45      |\u001b[39;00m\n\u001b[1;32m     10\u001b[0m \u001b[38;5;66;03m# | 2024-10-01 12:01| 0.48      |\u001b[39;00m\n",
      "\u001b[0;31mModuleNotFoundError\u001b[0m: No module named 'neurokit2'"
     ]
    }
   ],
   "source": [
    "import pandas as pd\n",
    "import neurokit2 as nk\n",
    "import matplotlib.pyplot as plt\n",
    "\n",
    "# Load your PPG data\n",
    "# Example structure:\n",
    "# | Timestamp       | PPG       |\n",
    "# |-----------------|-----------|\n",
    "# | 2024-10-01 12:00| 0.45      |\n",
    "# | 2024-10-01 12:01| 0.48      |\n",
    "data = pd.read_csv('/Users/dhwanishah/Desktop/MS/VR-Dhwani/subject-csvs-hr/sub-2/session-4.csv')\n"
   ]
  },
  {
   "cell_type": "code",
   "execution_count": null,
   "metadata": {},
   "outputs": [],
   "source": [
    "# Assume PPG data is sampled at 100 Hz (adjust if needed)\n",
    "sampling_rate = 100  # Hz\n",
    "\n",
    "# Process the PPG signal to identify peaks\n",
    "ppg_cleaned = nk.ppg_clean(data['PPG_Raw'], sampling_rate=sampling_rate)\n",
    "signals, info = nk.ppg_process(ppg_cleaned, sampling_rate=sampling_rate)\n",
    "\n",
    "# Extract heart rate\n",
    "heart_rate = signals[\"PPG_Rate\"]  # Heart rate in bpm\n",
    "\n",
    "# Add to DataFrame and plot\n",
    "data['Heart_Rate'] = heart_rate\n",
    "\n",
    "# Plot heart rate over time\n",
    "plt.figure(figsize=(12, 6))\n",
    "plt.plot(data['Timestamp'], data['Heart_Rate'], label='Heart Rate (bpm)')\n",
    "plt.xlabel('Time')\n",
    "plt.ylabel('Heart Rate (bpm)')\n",
    "plt.title('Heart Rate Over Time from PPG Data')\n",
    "plt.legend()\n",
    "plt.show()\n"
   ]
  },
  {
   "cell_type": "code",
   "execution_count": null,
   "metadata": {},
   "outputs": [],
   "source": [
    "print(data.columns)\n"
   ]
  }
 ],
 "metadata": {
  "kernelspec": {
   "display_name": "Anaconda",
   "language": "python",
   "name": "python3"
  },
  "language_info": {
   "codemirror_mode": {
    "name": "ipython",
    "version": 3
   },
   "file_extension": ".py",
   "mimetype": "text/x-python",
   "name": "python",
   "nbconvert_exporter": "python",
   "pygments_lexer": "ipython3",
   "version": "3.9.15"
  }
 },
 "nbformat": 4,
 "nbformat_minor": 2
}
